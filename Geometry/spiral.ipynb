{
 "cells": [
  {
   "cell_type": "markdown",
   "id": "64938f8e",
   "metadata": {},
   "source": [
    "# Imports"
   ]
  },
  {
   "cell_type": "code",
   "execution_count": 1,
   "id": "6db2f17f",
   "metadata": {},
   "outputs": [],
   "source": [
    "import numpy as np\n",
    "import matplotlib.pyplot as plt\n",
    "import seaborn as sns\n"
   ]
  },
  {
   "cell_type": "markdown",
   "id": "8e459ecd",
   "metadata": {},
   "source": [
    "# Data"
   ]
  },
  {
   "cell_type": "code",
   "execution_count": 3,
   "id": "c1fbffe6",
   "metadata": {},
   "outputs": [],
   "source": [
    "z = np.linspace(0, 5, 1000)\n",
    "r = np.linspace(7.5, 15, 1000)\n",
    "phi = np.linspace(0, 2 * np.pi, 1000)\n",
    "t = np.linspace(0, 25, 1000)"
   ]
  },
  {
   "cell_type": "markdown",
   "id": "ff18298d",
   "metadata": {},
   "source": [
    "# Functions"
   ]
  },
  {
   "cell_type": "code",
   "execution_count": 4,
   "id": "6841eff9",
   "metadata": {},
   "outputs": [],
   "source": [
    "def r1(t):\n",
    "    return 25 - 0.3 * t"
   ]
  },
  {
   "cell_type": "markdown",
   "id": "c19be99d",
   "metadata": {},
   "source": [
    "# Spiral"
   ]
  },
  {
   "cell_type": "markdown",
   "id": "a596b945",
   "metadata": {},
   "source": [
    "Inspiration: I saw a spiral on a poster and wanted to create a python notebook with it."
   ]
  },
  {
   "cell_type": "code",
   "execution_count": null,
   "id": "85d41f7c",
   "metadata": {},
   "outputs": [],
   "source": []
  }
 ],
 "metadata": {
  "kernelspec": {
   "display_name": "projects",
   "language": "python",
   "name": "python3"
  },
  "language_info": {
   "codemirror_mode": {
    "name": "ipython",
    "version": 3
   },
   "file_extension": ".py",
   "mimetype": "text/x-python",
   "name": "python",
   "nbconvert_exporter": "python",
   "pygments_lexer": "ipython3",
   "version": "3.12.8"
  }
 },
 "nbformat": 4,
 "nbformat_minor": 5
}
